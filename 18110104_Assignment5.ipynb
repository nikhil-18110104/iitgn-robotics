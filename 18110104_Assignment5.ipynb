{
  "nbformat": 4,
  "nbformat_minor": 0,
  "metadata": {
    "colab": {
      "name": "PI.ipynb",
      "provenance": []
    },
    "kernelspec": {
      "name": "python3",
      "display_name": "Python 3"
    },
    "language_info": {
      "name": "python"
    }
  },
  "cells": [
    {
      "cell_type": "code",
      "metadata": {
        "id": "RSn65CA81W8k"
      },
      "source": [
        "import matplotlib.pyplot as plt\n",
        "import numpy as np\n",
        "import math\n",
        "import time"
      ],
      "execution_count": 1,
      "outputs": []
    },
    {
      "cell_type": "code",
      "metadata": {
        "id": "Ql26ddvOptrM"
      },
      "source": [
        "    #https://raw.githubusercontent.com/ivmech/ivPID/master/PID.py\n",
        "class PID:\n",
        "  def __init__(self, P=0.2, I=0.0, D=0.0, current_time=None):\n",
        "\n",
        "        self.Kp = P\n",
        "        self.Ki = I\n",
        "        self.Kd = D\n",
        "\n",
        "        self.sample_time = 0.00\n",
        "        self.current_time = current_time if current_time is not None else time.time()\n",
        "        self.last_time = self.current_time\n",
        "\n",
        "        self.clear()\n",
        "\n",
        "  def clear(self):\n",
        "        #Clears PID computations and coefficients\n",
        "        self.SetPoint = 0.0\n",
        "\n",
        "        self.PTerm = 0.0\n",
        "        self.ITerm = 0.0\n",
        "        self.DTerm = 0.0\n",
        "        self.last_error = 0.0\n",
        "\n",
        "        # Windup Guard\n",
        "        self.int_error = 0.0\n",
        "        self.windup_guard = 20.0\n",
        "\n",
        "        self.output = 0.0\n",
        "\n",
        "  def update(self, feedback_value, current_time=None):\n",
        "        \"\"\"Calculates PID value for given reference feedback\n",
        "        .. math::\n",
        "            u(t) = K_p e(t) + K_i \\int_{0}^{t} e(t)dt + K_d {de}/{dt}\n",
        "        .. figure:: images/pid_1.png\n",
        "           :align:   center\n",
        "        \"\"\"\n",
        "        error = self.SetPoint - feedback_value\n",
        "\n",
        "        self.current_time = current_time if current_time is not None else time.time()\n",
        "        delta_time = self.current_time - self.last_time\n",
        "        delta_error = error - self.last_error\n",
        "\n",
        "        if (delta_time >= self.sample_time):\n",
        "            self.PTerm = self.Kp * error\n",
        "            self.ITerm += error * delta_time\n",
        "\n",
        "            if (self.ITerm < -self.windup_guard):\n",
        "                self.ITerm = -self.windup_guard\n",
        "            elif (self.ITerm > self.windup_guard):\n",
        "                self.ITerm = self.windup_guard\n",
        "\n",
        "            self.DTerm = 0.0\n",
        "            if delta_time > 0:\n",
        "                self.DTerm = delta_error / delta_time\n",
        "\n",
        "            # Remember last time and last error for next calculation\n",
        "            self.last_time = self.current_time\n",
        "            self.last_error = error\n",
        "\n",
        "            self.output = self.PTerm + (self.Ki * self.ITerm) + (self.Kd * self.DTerm)\n",
        "\n",
        "  def setKp(self, proportional_gain):\n",
        "        #Determines how aggressively the PID reacts to the current error with setting Proportional Gain\n",
        "        self.Kp = proportional_gain\n",
        "\n",
        "  def setKi(self, integral_gain):\n",
        "        #Determines how aggressively the PID reacts to the current error with setting Integral Gain\n",
        "        self.Ki = integral_gain\n",
        "\n",
        "  def setKd(self, derivative_gain):\n",
        "        #Determines how aggressively the PID reacts to the current error with setting Derivative Gain\n",
        "        self.Kd = derivative_gain\n",
        "\n",
        "  def setWindup(self, windup):\n",
        "        \"\"\"Integral windup, also known as integrator windup or reset windup,\n",
        "        refers to the situation in a PID feedback controller where\n",
        "        a large change in setpoint occurs (say a positive change)\n",
        "        and the integral terms accumulates a significant error\n",
        "        during the rise (windup), thus overshooting and continuing\n",
        "        to increase as this accumulated error is unwound\n",
        "        (offset by errors in the other direction).\n",
        "        The specific problem is the excess overshooting.\n",
        "        \"\"\"\n",
        "        self.windup_guard = windup\n",
        "\n",
        "  def setSampleTime(self, sample_time):\n",
        "        #PID that should be updated at a regular interval.\n",
        "        #Based on a pre-determined sampe time, the PID decides if it should compute or return immediately.\n",
        "        \n",
        "        self.sample_time = sample_time"
      ],
      "execution_count": 2,
      "outputs": []
    },
    {
      "cell_type": "markdown",
      "metadata": {
        "id": "MdstNKKTXFUq"
      },
      "source": [
        "#Stanford "
      ]
    },
    {
      "cell_type": "code",
      "metadata": {
        "id": "0OpNy0XGpsVz",
        "colab": {
          "base_uri": "https://localhost:8080/",
          "height": 458
        },
        "outputId": "e47ce9b6-068b-4e76-981d-45b6d13edeb0"
      },
      "source": [
        "#inverse codes used from repository\n",
        "def stanford(endeffector_position,lengthsoflinks,des):\n",
        "    #PI control\n",
        "    P=0.9\n",
        "    I=0.5\n",
        "    pi1=PID(P,I)\n",
        "    pi2=PID(P,I)\n",
        "    pi3=PID(P,I)\n",
        "\n",
        "    #innverse kinematics \n",
        "    theta1 = np.arctan(endeffector_position[1]/endeffector_position[0])\n",
        "    r = np.sqrt(endeffector_position[0]**2 + endeffector_position[1]**2)\n",
        "    s = endeffector_position[2] - lengthsoflinks[0]\n",
        "    theta2 = np.arctan(s/r)\n",
        "    d3 = np.sqrt(r**2 + s**2) - lengthsoflinks[1]\n",
        "\n",
        "    #innverse kinematics des\n",
        "    theta1_des = np.arctan(des[1]/des[0])\n",
        "    r_des = np.sqrt(des[0]**2 + des[1]**2)\n",
        "    s_des = des[2] - lengthsoflinks[0]\n",
        "    theta2_des = np.arctan(s_des/r_des)\n",
        "    d3_des = np.sqrt(r_des**2 + s_des**2) - lengthsoflinks[1]\n",
        "\n",
        "    pi1.SetPoint=(theta1_des)   \n",
        "    pi1.setSampleTime(0.001)\n",
        "    pi1.update(theta1)\n",
        "    theta=pi1.output\n",
        "    TH1=[]\n",
        "    time=[]\n",
        "    while int((pi1.SetPoint-pi1.output)*180/1.57)!=1:\n",
        "      theta = pi1.output\n",
        "      TH1.append(theta)\n",
        "      time.append(pi1.current_time)\n",
        "      pi1.update(theta)\n",
        "      #print(pi1.last_error)\n",
        "    \n",
        "    plt.plot(TH1,time, label='stanford PI')\n",
        "    plt.legend()\n",
        "    plt.xlabel(\"theta1\")\n",
        "    plt.ylabel(\"t\")\n",
        "    plt.show()\n",
        "\n",
        "    print(\"Stanford inverse: \\n\", \"Theta1 = \", theta1, \"rad\\n Theta2 =\", theta2,\"rad\\n Extension= \", d3, \"m\\n\")\n",
        "    #return [theta1,theta2,extension]\n",
        "    #forward kinematics\n",
        "    x=(lengthsoflinks[1]+d3)*math.cos(theta1)*math.cos(theta2)\n",
        "    y=(lengthsoflinks[1]+d3)*math.sin(theta1)*math.cos(theta2)\n",
        "    z=lengthsoflinks[0]+(lengthsoflinks[1]+d3)*math.sin(theta2)\n",
        "    print(\"Stanford forward: \\n\", \"X = \", x, \"m\\n Y =\", y,\"m\\n Z= \", z, \"m\\n\")\n",
        "  \n",
        "\n",
        "stanford([1,1,1],[1,1,1],[1.1,1.1,2])"
      ],
      "execution_count": 10,
      "outputs": [
        {
          "output_type": "display_data",
          "data": {
            "image/png": "[encoded data removed]",
            "text/plain": [
              "<Figure size 432x288 with 1 Axes>"
            ]
          },
          "metadata": {
            "needs_background": "light"
          }
        },
        {
          "output_type": "stream",
          "name": "stdout",
          "text": [
            "Stanford inverse: \n",
            " Theta1 =  0.7853981633974483 rad\n",
            " Theta2 = 0.0 rad\n",
            " Extension=  0.41421356237309515 m\n",
            "\n",
            "Stanford forward: \n",
            " X =  1.0000000000000002 m\n",
            " Y = 1.0 m\n",
            " Z=  1.0 m\n",
            "\n"
          ]
        }
      ]
    },
    {
      "cell_type": "markdown",
      "metadata": {
        "id": "lsuKYXOo9d2b"
      },
      "source": [
        "#Scara"
      ]
    },
    {
      "cell_type": "code",
      "metadata": {
        "colab": {
          "base_uri": "https://localhost:8080/",
          "height": 576
        },
        "id": "JWEY2KjmXOut",
        "outputId": "5c65b051-03b2-4a47-e3e5-50052c55004a"
      },
      "source": [
        "#inverse codes used from repository\n",
        "\n",
        "def scara(endeffector_position,lengthsoflinks,des):\n",
        "    #PI control\n",
        "    P=0.9\n",
        "    I=0.5\n",
        "    pi1=PID(P,I)\n",
        "    pi2=PID(P,I)\n",
        "    pi3=PID(P,I)\n",
        "\n",
        "    #inverse Kinematics\n",
        "    r = abs((endeffector_position[0]**2+endeffector_position[1]**2-lengthsoflinks[0]**2-lengthsoflinks[1]**2)/(2*lengthsoflinks[0]*lengthsoflinks[1]))\n",
        "    theta2 = np.arctan(np.sqrt(abs(1-r**2))/r)\n",
        "    theta1 = np.arctan(endeffector_position[1]/endeffector_position[0]) - np.arctan((lengthsoflinks[1]*np.sin(theta2))/(lengthsoflinks[0]+lengthsoflinks[1]*np.cos(theta2)))\n",
        "    d3 = lengthsoflinks[0]-endeffector_position[2]\n",
        "\n",
        "    #inverse Kinematics des\n",
        "    r = abs((des[0]**2+des[1]**2-lengthsoflinks[0]**2-lengthsoflinks[1]**2)/(2*lengthsoflinks[0]*lengthsoflinks[1]))\n",
        "    theta2_des = np.arctan(np.sqrt(abs(1-r**2))/r)\n",
        "    theta1_des = np.arctan(des[1]/des[0]) - np.arctan((lengthsoflinks[1]*np.sin(theta2_des))/(lengthsoflinks[0]+lengthsoflinks[1]*np.cos(theta2_des)))\n",
        "    d3_des = lengthsoflinks[0]-des[2]\n",
        "\n",
        "    pi1.SetPoint=(theta1_des)   \n",
        "    pi1.setSampleTime(0.001)\n",
        "    pi1.update(theta1)\n",
        "    theta=pi1.output\n",
        "    TH1=[]\n",
        "    time=[]\n",
        "    while int((pi1.SetPoint-pi1.output)*180/1.57)!=1:\n",
        "      theta = pi1.output\n",
        "      TH1.append(theta)\n",
        "      time.append(pi1.current_time)\n",
        "      pi1.update(theta)\n",
        "      #print(pi1.last_error)\n",
        "    \n",
        "    plt.plot(TH1,time, label='scara PI')\n",
        "    plt.legend()\n",
        "    plt.xlabel(\"theta1\")\n",
        "    plt.ylabel(\"t\")\n",
        "    plt.show()\n",
        "\n",
        "    \n",
        "    # converting from radians to degrees\n",
        "    print(\"Scara Inverse: \\n\", \"Theta1 = \", theta1, \"rad\\n Theta2 =\", theta2,\"rad\\n Extension: \", d3, \"m\\n\")\n",
        "    #return [theta1,theta2,Extension]\n",
        "    print(\"Scara Inverse des: \\n\", \"Theta1 = \", theta1_des, \"rad\\n Theta2 =\", theta2_des,\"rad\\n Extension: \", d3_des, \"m\\n\")\n",
        "    #return [theta1,theta2,Extension]\n",
        "\n",
        "    #forward kinematics\n",
        "    x=lengthsoflinks[0]*math.cos(theta1)+lengthsoflinks[1]*math.cos(theta1+theta2)\n",
        "    y=lengthsoflinks[0]*math.sin(theta1)+lengthsoflinks[1]*math.sin(theta1+theta2)\n",
        "    z=lengthsoflinks[2]-d3\n",
        "    print(\"Scara forward: \\n\", \"X = \", x, \"m\\n Y =\", y,\"m\\n Z= \", z, \"m\\n\")\n",
        "  \n",
        "scara([1,1,1],[1,1,1],[0.1,1,2])"
      ],
      "execution_count": 11,
      "outputs": [
        {
          "output_type": "stream",
          "name": "stderr",
          "text": [
            "/usr/local/lib/python3.7/dist-packages/ipykernel_launcher.py:13: RuntimeWarning: divide by zero encountered in double_scalars\n",
            "  del sys.path[0]\n"
          ]
        },
        {
          "output_type": "display_data",
          "data": {
            "image/png": "[encoded data removed]",
            "text/plain": [
              "<Figure size 432x288 with 1 Axes>"
            ]
          },
          "metadata": {
            "needs_background": "light"
          }
        },
        {
          "output_type": "stream",
          "name": "stdout",
          "text": [
            "Scara Inverse: \n",
            " Theta1 =  0.0 rad\n",
            " Theta2 = 1.5707963267948966 rad\n",
            " Extension:  0 m\n",
            "\n",
            "Scara Inverse des: \n",
            " Theta1 =  0.9446469267224759 rad\n",
            " Theta2 = 1.0529614951625175 rad\n",
            " Extension:  -1 m\n",
            "\n",
            "Scara forward: \n",
            " X =  1.0 m\n",
            " Y = 1.0 m\n",
            " Z=  1 m\n",
            "\n"
          ]
        }
      ]
    },
    {
      "cell_type": "markdown",
      "metadata": {
        "id": "d1LXgBXI9itm"
      },
      "source": [
        "#Puma"
      ]
    },
    {
      "cell_type": "code",
      "metadata": {
        "colab": {
          "base_uri": "https://localhost:8080/",
          "height": 542
        },
        "id": "CSEdbZ2vZCmK",
        "outputId": "8ead3d98-09c1-4e87-c69f-d1fe9d68eeb7"
      },
      "source": [
        "#inverse codes used from repository\n",
        "\n",
        "def puma(endeffector_position,lengthsoflinks,des):\n",
        "    #PI control\n",
        "    P=0.9\n",
        "    I=0.5\n",
        "    pi1=PID(P,I)\n",
        "    pi2=PID(P,I)\n",
        "    pi3=PID(P,I)\n",
        "\n",
        "    #Inverse kinematics\n",
        "    theta1 = math.atan2(endeffector_position[1],endeffector_position[0])\n",
        "    D = (endeffector_position[0]**2+endeffector_position[1]**2+(endeffector_position[2]-lengthsoflinks[0])**2-lengthsoflinks[1]**2-lengthsoflinks[2]**2)/(2*lengthsoflinks[1]*lengthsoflinks[2])\n",
        "    if D>=1 or D<=-1:\n",
        "      print(\"singular configuration\")\n",
        "      if D>1 or D<-1:\n",
        "          print(\"outside workspace\")\n",
        "    else:\n",
        "      theta3 = math.atan2((-math.sqrt(1-D*D)),D)\n",
        "      theta2 = math.atan2(endeffector_position[2]-lengthsoflinks[0],(math.sqrt(endeffector_position[0]**2+endeffector_position[1]**2)))-math.atan2((lengthsoflinks[2]*math.sin(theta3)),(lengthsoflinks[1]+lengthsoflinks[2]*math.cos(theta3)))\n",
        "      print(\"puma Inverse: \\n\", \"Theta1 = \", theta1, \"rad\\n Theta2 =\", theta2,\"rad\\n Theta3: \", theta3, \"rad\\n\")\n",
        "      #return [theta1,theta2,theta3]\n",
        "\n",
        "    #Inverse kinematics des\n",
        "    theta1_des = math.atan2(des[1],des[0])\n",
        "    D = (des[0]**2+des[1]**2+(des[2]-lengthsoflinks[0])**2-lengthsoflinks[1]**2-lengthsoflinks[2]**2)/(2*lengthsoflinks[1]*lengthsoflinks[2])\n",
        "    if D>=1 or D<=-1:\n",
        "      print(\"singular configuration\")\n",
        "      if D>1 or D<-1:\n",
        "          print(\"outside workspace\")\n",
        "    else:\n",
        "      theta3_des = math.atan2((-math.sqrt(1-D*D)),D)\n",
        "      theta2_des = math.atan2(des[2]-lengthsoflinks[0],(math.sqrt(des[0]**2+des[1]**2)))-math.atan2((lengthsoflinks[2]*math.sin(theta3_des)),(lengthsoflinks[1]+lengthsoflinks[2]*math.cos(theta3_des)))\n",
        "      print(\"puma Inverse: \\n\", \"Theta1 = \", theta1_des, \"rad\\n Theta2 =\", theta2_des,\"rad\\n Theta3: \", theta3_des, \"rad\\n\")\n",
        "      #return [theta1,theta2,theta3]\n",
        "\n",
        "    pi1.SetPoint=(theta1_des)   \n",
        "    pi1.setSampleTime(0.001)\n",
        "    pi1.update(theta1)\n",
        "    theta=pi1.output\n",
        "    TH1=[]\n",
        "    time=[]\n",
        "    while int((pi1.SetPoint-pi1.output)*180/1.57)!=1:\n",
        "      theta = pi1.output\n",
        "      TH1.append(theta)\n",
        "      time.append(pi1.current_time)\n",
        "      pi1.update(theta)\n",
        "      #print(pi1.last_error)\n",
        "    \n",
        "    plt.plot(TH1,time, label='puma PI')\n",
        "    plt.legend()\n",
        "    plt.xlabel(\"theta1\")\n",
        "    plt.ylabel(\"t\")\n",
        "    plt.show()\n",
        "\n",
        "\n",
        "    #forward kinematics\n",
        "    x=(lengthsoflinks[1]*math.cos(theta2)+lengthsoflinks[2]*math.cos(theta2+theta3))*math.cos(theta1)\n",
        "    y=(lengthsoflinks[1]*math.cos(theta2)+lengthsoflinks[2]*math.cos(theta2+theta3))*math.sin(theta1)\n",
        "    z=lengthsoflinks[0]+lengthsoflinks[1]*math.sin(theta2)+lengthsoflinks[2]*math.sin(theta2+theta3)\n",
        "    print(\"puma forward: \\n\", \"X = \", x, \"m\\n Y =\", y,\"m\\n Z= \", z, \"m\\n\")\n",
        "    \n",
        "puma([1,1,1],[1,1,1],[1.1,1.1,2])"
      ],
      "execution_count": 12,
      "outputs": [
        {
          "output_type": "stream",
          "name": "stdout",
          "text": [
            "puma Inverse: \n",
            " Theta1 =  0.7853981633974483 rad\n",
            " Theta2 = 0.7853981633974483 rad\n",
            " Theta3:  -1.5707963267948966 rad\n",
            "\n",
            "puma Inverse: \n",
            " Theta1 =  0.7853981633974483 rad\n",
            " Theta2 = 0.9619633321486626 rad\n",
            " Theta3:  -0.7812981174487245 rad\n",
            "\n"
          ]
        },
        {
          "output_type": "display_data",
          "data": {
            "image/png": "[encoded data removed]",
            "text/plain": [
              "<Figure size 432x288 with 1 Axes>"
            ]
          },
          "metadata": {
            "needs_background": "light"
          }
        },
        {
          "output_type": "stream",
          "name": "stdout",
          "text": [
            "puma forward: \n",
            " X =  1.0000000000000002 m\n",
            " Y = 1.0 m\n",
            " Z=  1.0 m\n",
            "\n"
          ]
        }
      ]
    }
  ]
}